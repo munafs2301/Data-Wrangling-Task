{
 "cells": [
  {
   "cell_type": "markdown",
   "metadata": {},
   "source": [
    "## TASK: Using Group 2, how many cases did the US and Germany each record in April?"
   ]
  },
  {
   "cell_type": "markdown",
   "metadata": {},
   "source": [
    "### The following steps will be used to extract information from our CSV files:\n",
    "- Import Pandas\n",
    "- Create a function to read the desired data from csv file\n",
    "- Extract data using the function\n",
    "- Find the difference for each country"
   ]
  },
  {
   "cell_type": "markdown",
   "metadata": {},
   "source": [
    "## Import Pandas"
   ]
  },
  {
   "cell_type": "code",
   "execution_count": 54,
   "metadata": {},
   "outputs": [],
   "source": [
    "import pandas as pd"
   ]
  },
  {
   "cell_type": "markdown",
   "metadata": {},
   "source": [
    "## Create function to extract desired data from CSV file"
   ]
  },
  {
   "cell_type": "code",
   "execution_count": 55,
   "metadata": {},
   "outputs": [],
   "source": [
    "initial_date = {}\n",
    "final_date = {}\n",
    "\n",
    "def convert(x):\n",
    "    x = x.replace(\",\",\"\")\n",
    "    x = int(x)\n",
    "    return(x)\n",
    "\n",
    "def add_case(csv_file,column,dict):\n",
    "    df = pd.read_csv(csv_file)\n",
    "    dict['USA'] = int((df[column][df['Country']=='united-states']).apply(convert))\n",
    "    dict['Germany'] = int(df[column][df['Country']=='germany'].apply(convert))  \n",
    "    print(dict)"
   ]
  },
  {
   "cell_type": "markdown",
   "metadata": {},
   "source": [
    "## Extract Data"
   ]
  },
  {
   "cell_type": "code",
   "execution_count": 56,
   "metadata": {},
   "outputs": [
    {
     "name": "stdout",
     "output_type": "stream",
     "text": [
      "{'USA': 242899, 'Germany': 84794}\n",
      "{'USA': 1094721, 'Germany': 163009}\n"
     ]
    }
   ],
   "source": [
    "add_case('worldwide_02-Apr-2020 23-56-11.csv','Total confirmed cases',initial_date)\n",
    "add_case('worldwide_30-Apr-2020 23-49-11.csv','Total confirmed',final_date)"
   ]
  },
  {
   "cell_type": "markdown",
   "metadata": {},
   "source": [
    "# US Cases"
   ]
  },
  {
   "cell_type": "code",
   "execution_count": 50,
   "metadata": {},
   "outputs": [
    {
     "data": {
      "text/plain": [
       "851822"
      ]
     },
     "execution_count": 50,
     "metadata": {},
     "output_type": "execute_result"
    }
   ],
   "source": [
    "final_date['USA']-initial_date['USA']"
   ]
  },
  {
   "cell_type": "markdown",
   "metadata": {},
   "source": [
    "# Germany Cases"
   ]
  },
  {
   "cell_type": "code",
   "execution_count": 53,
   "metadata": {},
   "outputs": [
    {
     "data": {
      "text/plain": [
       "78215"
      ]
     },
     "execution_count": 53,
     "metadata": {},
     "output_type": "execute_result"
    }
   ],
   "source": [
    "final_date['Germany']-initial_date['Germany']"
   ]
  },
  {
   "cell_type": "markdown",
   "metadata": {},
   "source": [
    "# Task Solution\n",
    "The total cases recorded for each country in the month of April is:\n",
    "- Russia - 102950\n",
    "- Italy - 88349"
   ]
  }
 ],
 "metadata": {
  "kernelspec": {
   "display_name": "Python 3",
   "language": "python",
   "name": "python3"
  },
  "language_info": {
   "codemirror_mode": {
    "name": "ipython",
    "version": 3
   },
   "file_extension": ".py",
   "mimetype": "text/x-python",
   "name": "python",
   "nbconvert_exporter": "python",
   "pygments_lexer": "ipython3",
   "version": "3.7.4"
  }
 },
 "nbformat": 4,
 "nbformat_minor": 2
}
